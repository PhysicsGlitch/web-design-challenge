{
 "cells": [
  {
   "cell_type": "code",
   "execution_count": 1,
   "metadata": {},
   "outputs": [],
   "source": [
    "import pandas as pd"
   ]
  },
  {
   "cell_type": "code",
   "execution_count": 3,
   "metadata": {},
   "outputs": [],
   "source": [
    "covid_us = pd.read_csv(\"data_files/us.csv\")"
   ]
  },
  {
   "cell_type": "code",
   "execution_count": 4,
   "metadata": {},
   "outputs": [
    {
     "data": {
      "text/plain": [
       "<bound method NDFrame.head of           date    cases  deaths\n",
       "0    1/21/2020        1       0\n",
       "1    1/22/2020        1       0\n",
       "2    1/23/2020        1       0\n",
       "3    1/24/2020        2       0\n",
       "4    1/25/2020        3       0\n",
       "..         ...      ...     ...\n",
       "173  7/12/2020  3318347  134977\n",
       "174  7/13/2020  3379859  135402\n",
       "175  7/14/2020  3445483  136356\n",
       "176  7/15/2020  3513846  137327\n",
       "177  7/16/2020  3589489  138284\n",
       "\n",
       "[178 rows x 3 columns]>"
      ]
     },
     "execution_count": 4,
     "metadata": {},
     "output_type": "execute_result"
    }
   ],
   "source": [
    "covid_us.head"
   ]
  },
  {
   "cell_type": "code",
   "execution_count": 8,
   "metadata": {},
   "outputs": [],
   "source": [
    "html_covid_data = covid_us.to_html(\"data_files/us_covid.html\")"
   ]
  },
  {
   "cell_type": "code",
   "execution_count": null,
   "metadata": {},
   "outputs": [],
   "source": []
  }
 ],
 "metadata": {
  "kernelspec": {
   "display_name": "Python 3",
   "language": "python",
   "name": "python3"
  },
  "language_info": {
   "codemirror_mode": {
    "name": "ipython",
    "version": 3
   },
   "file_extension": ".py",
   "mimetype": "text/x-python",
   "name": "python",
   "nbconvert_exporter": "python",
   "pygments_lexer": "ipython3",
   "version": "3.7.6"
  }
 },
 "nbformat": 4,
 "nbformat_minor": 4
}
